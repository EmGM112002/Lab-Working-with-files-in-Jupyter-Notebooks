{
 "cells": [
  {
   "cell_type": "markdown",
   "id": "737f8362-49c5-4427-b5fb-b4cdd2d228eb",
   "metadata": {},
   "source": [
    "# Data Science Tools and Ecosystem"
   ]
  },
  {
   "cell_type": "markdown",
   "id": "f3615f1d-c244-4aab-81f9-3e18b01e8812",
   "metadata": {},
   "source": [
    "In this notebook, Data Science Tools and Ecosystem are summarized.\n",
    "\n"
   ]
  },
  {
   "cell_type": "markdown",
   "id": "05d62701-74c9-438c-beb2-2e6ca8112849",
   "metadata": {},
   "source": [
    "Some of the popular languages that Data Scientists use are:\n",
    "- Python\n",
    "- R\n",
    "- Scala"
   ]
  },
  {
   "cell_type": "markdown",
   "id": "9cbecc3c-ff8e-4cd7-9daf-2da8ef6e8101",
   "metadata": {},
   "source": [
    "Some of the commonly used libraries used by Data Scientists include:\n",
    "1. Pandas\n",
    "2. MathPlotLib\n",
    "3. Scikit-learn"
   ]
  },
  {
   "cell_type": "markdown",
   "id": "6b5ffa5a-1376-4cb2-a339-2a0c15c5998e",
   "metadata": {},
   "source": [
    "|Data Science Tools|\n",
    "|---|\n",
    "|Rstudio|\n",
    "|Jupyter|\n",
    "|VS code|"
   ]
  },
  {
   "cell_type": "markdown",
   "id": "a7adc921-a877-403c-ba98-282d0a4a1895",
   "metadata": {},
   "source": [
    "### Below are a few examples of evaluating arithmetic expressions in Python"
   ]
  },
  {
   "cell_type": "code",
   "execution_count": 2,
   "id": "9d409b3f-bceb-499b-acc8-450826d2f9c0",
   "metadata": {},
   "outputs": [
    {
     "data": {
      "text/plain": [
       "17"
      ]
     },
     "execution_count": 2,
     "metadata": {},
     "output_type": "execute_result"
    }
   ],
   "source": [
    "#This a simple arithmetic expression to multiply then add integers\n",
    "(3*4)+5"
   ]
  },
  {
   "cell_type": "code",
   "execution_count": 5,
   "id": "f4a762fb-fde4-438e-9acd-1aec16866ad0",
   "metadata": {},
   "outputs": [
    {
     "data": {
      "text/plain": [
       "33.333333333333336"
      ]
     },
     "execution_count": 5,
     "metadata": {},
     "output_type": "execute_result"
    }
   ],
   "source": [
    "# This will convert 200 minutes to hours by diving by 60\n",
    "minutes = 2000\n",
    "hours = minutes/60\n",
    "hours"
   ]
  },
  {
   "cell_type": "markdown",
   "id": "d69d607d-3c14-490f-8e1c-bd2c6dbbfb52",
   "metadata": {},
   "source": [
    "**Objectives:**\n",
    "- R\n",
    "- Python\n",
    "- Scala"
   ]
  },
  {
   "cell_type": "markdown",
   "id": "f4913731-bbf6-4dc8-846f-0a7ff1d66769",
   "metadata": {},
   "source": [
    "## Author\n",
    "Emiliano Guillen"
   ]
  },
  {
   "cell_type": "code",
   "execution_count": null,
   "id": "a46a8250-300f-487c-baa7-2054addd80d4",
   "metadata": {},
   "outputs": [],
   "source": []
  }
 ],
 "metadata": {
  "kernelspec": {
   "display_name": "Python 3 (ipykernel)",
   "language": "python",
   "name": "python3"
  },
  "language_info": {
   "codemirror_mode": {
    "name": "ipython",
    "version": 3
   },
   "file_extension": ".py",
   "mimetype": "text/x-python",
   "name": "python",
   "nbconvert_exporter": "python",
   "pygments_lexer": "ipython3",
   "version": "3.12.8"
  }
 },
 "nbformat": 4,
 "nbformat_minor": 5
}
